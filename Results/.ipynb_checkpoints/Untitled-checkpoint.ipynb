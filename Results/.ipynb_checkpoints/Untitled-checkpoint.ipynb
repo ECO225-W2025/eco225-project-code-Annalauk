{
 "cells": [
  {
   "cell_type": "code",
   "execution_count": 2,
   "id": "654edf24-4f49-40a9-93d4-3416c7180db0",
   "metadata": {},
   "outputs": [],
   "source": [
    "import requests\n",
    "import pandas as pd\n",
    "import time"
   ]
  },
  {
   "cell_type": "code",
   "execution_count": 4,
   "id": "4a06f7c3-dbb4-40cd-8f6b-c9c0066dae72",
   "metadata": {},
   "outputs": [],
   "source": [
    "access_token = '3G32GF_uTVR1gKLj3T5veLxI2EzKBN2oH-Po0bdt'"
   ]
  },
  {
   "cell_type": "code",
   "execution_count": 68,
   "id": "d44fd6f0-69f7-4e34-927f-fad3e01c739e",
   "metadata": {},
   "outputs": [
    {
     "name": "stdout",
     "output_type": "stream",
     "text": [
      "{'count': 2408, 'top_rank': 100.0, 'top_local_rank': 100.0, 'rank_levels': {'1': 52, '2': 2158, '3': 179, '4': 16, '5': 3}, 'local_rank_levels': {'1': 46, '2': 100, '3': 1820, '4': 418, '5': 20}, 'categories': {'community': 581, 'concerts': 14, 'conferences': 1575, 'expos': 173, 'festivals': 23, 'performing-arts': 27, 'severe-weather': 4, 'sports': 11}, 'labels': {'art': 9, 'attraction': 1, 'business': 1552, 'career': 5, 'comedy': 3, 'community': 612, 'concert': 30, 'conference': 1575, 'education': 11, 'entertainment': 28, 'environment': 1, 'expo': 173, 'family': 8, 'fashion': 7, 'festival': 25, 'flood': 4, 'food': 23, 'fundraiser': 7, 'golf': 2, 'health': 61, 'household': 2, 'industrial': 1, 'movie': 1, 'music': 34, 'outdoor': 2, 'outdoor-sports': 1, 'parade': 1, 'performing-arts': 28, 'religion': 6, 'running': 1, 'science': 26, 'sport': 16, 'technology': 27, 'weather': 4, 'weather-warning': 4, 'workshop': 369}, 'phq_labels': {'agriculture-forestry-and-fisheries': 5, 'art-and-cultural': 60, 'beauty-and-fashion': 18, 'charity': 9, 'comedy-club': 8, 'community-event': 3, 'concert': 4, 'construction-and-infrastructure': 13, 'consumer-goods': 21, 'cultural': 64, 'cultural-performance': 4, 'design-and-furnishing': 15, 'digital': 1, 'dinner-theatre': 5, 'education': 239, 'education-and-careers': 1103, 'educational': 13, 'electronic': 1, 'family-activities': 6, 'family-fun': 19, 'family-theatre': 6, 'festivals-and-outdoor-activities': 39, 'financial-services': 312, 'flood': 4, 'food-and-beverage': 114, 'general-theatre': 6, 'golf': 2, 'hip-hop-and-rnb-and-soul': 1, 'hospitality-and-travel': 9, 'legal-and-property-services': 273, 'lifestyle': 296, 'literature-film-and-theater': 34, 'logistics-and-transportation': 2, 'management-and-consulting': 164, 'manufacturing-and-petroleum-products': 4, 'market': 8, 'medical': 22, 'movie': 3, 'music': 16, 'music-and-dance': 26, 'nature-and-outdoor-activities': 2, 'nightlife': 9, 'other': 1, 'outdoor-sports': 1, 'pop': 2, 'religion': 1, 'religion-and-spirituality': 21, 'rock': 2, 'running': 1, 'science-and-technology': 770, 'sport': 5, 'sports-and-gaming': 21, 'weather-warning': 4, 'wellness': 28}}\n"
     ]
    }
   ],
   "source": [
    "response = requests.get(\n",
    "    url=\"https://api.predicthq.com/v1/events/count/\",\n",
    "    headers={\n",
    "      \"Authorization\": f\"Bearer {access_token}\",\n",
    "      \"Accept\": \"application/json\"\n",
    "    },\n",
    "    params={\n",
    "        \"country\": \"US\",\n",
    "        \"q\": \"business\",\n",
    "        \"active.gte\": \"2025-02-01\",  # Events starting on or after Jan 1, 2014\n",
    "        \"active.lte\": \"2025-03-01\",  # Events ending on or before Dec 31, 2016\n",
    "        \"active.tz\": \"America/New_York\"  # Optional timezone, defaults to UTC\n",
    "    }\n",
    ")\n",
    "\n",
    "if response.status_code == 200:\n",
    "    print(response.json())\n",
    "else:\n",
    "    print(f\"Error: {response.status_code} - {response.text}\")"
   ]
  },
  {
   "cell_type": "code",
   "execution_count": null,
   "id": "7494fad7-cbd5-4421-af50-d0fc09603197",
   "metadata": {},
   "outputs": [],
   "source": [
    "\n",
    "\n",
    "# Initialize the API URL and headers\n",
    "url = \"https://api.predicthq.com/v1/events/\"\n",
    "headers = {\n",
    "    \"Authorization\": f\"Bearer {access_token}\",\n",
    "    \"Accept\": \"application/json\"\n",
    "}\n",
    "params = {\n",
    "    \"country\": \"US\",\n",
    "    \"category\": \"conferences\",\n",
    "    \"q\": \"tech*\",\n",
    "    \"active.gte\": \"2014-01-01\",\n",
    "    \"active.lte\": \"2016-12-31\",\n",
    "}\n",
    "\n",
    "# Initialize an empty list to collect events\n",
    "all_events = []\n",
    "\n",
    "# Function to handle API requests with retries\n",
    "def fetch_events(url, headers, params, max_retries=10):\n",
    "    retries = 0\n",
    "    while retries < max_retries:\n",
    "        response = requests.get(url, headers=headers, params=params)\n",
    "        \n",
    "        if response.status_code == 200:\n",
    "            return response.json()  # Successful response\n",
    "        elif response.status_code == 429:\n",
    "            retries += 1\n",
    "            wait_time = 2 ** retries  # Exponential backoff\n",
    "            print(f\"Rate limit exceeded (429). Retrying in {wait_time} seconds...\")\n",
    "            time.sleep(wait_time)  # Wait before retrying\n",
    "        elif response.status_code == 503:\n",
    "            retries += 1\n",
    "            wait_time = 2 ** retries  # Exponential backoff for 503 error\n",
    "            print(f\"503 error encountered. Retrying in {wait_time} seconds...\")\n",
    "            time.sleep(wait_time)\n",
    "        else:\n",
    "            print(f\"Error: {response.status_code} - {response.text}\")\n",
    "            break\n",
    "    return None\n",
    "\n",
    "# Loop to request paginated data until overflow is False\n",
    "while True:\n",
    "    data = fetch_events(url, headers, params)\n",
    "    \n",
    "    if data:\n",
    "        # Add the events to the all_events list\n",
    "        all_events.extend(data['results'])\n",
    "        \n",
    "        # Check if overflow is False\n",
    "        if not data.get('overflow', False):\n",
    "            break\n",
    "        \n",
    "        # Update the parameters for the next page, using the 'next' URL from the response\n",
    "        params['next'] = data.get('next', None)\n",
    "    else:\n",
    "        print(\"Max retries reached or error occurred. Exiting.\")\n",
    "        break\n",
    "\n",
    "# Convert the list of events into a DataFrame\n",
    "df = pd.DataFrame(all_events)\n",
    "\n",
    "# Display the first few rows of the DataFrame\n",
    "print(df.head())\n"
   ]
  }
 ],
 "metadata": {
  "kernelspec": {
   "display_name": "Python [conda env:base] *",
   "language": "python",
   "name": "conda-base-py"
  },
  "language_info": {
   "codemirror_mode": {
    "name": "ipython",
    "version": 3
   },
   "file_extension": ".py",
   "mimetype": "text/x-python",
   "name": "python",
   "nbconvert_exporter": "python",
   "pygments_lexer": "ipython3",
   "version": "3.12.7"
  }
 },
 "nbformat": 4,
 "nbformat_minor": 5
}
